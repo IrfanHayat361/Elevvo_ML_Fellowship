{
  "nbformat": 4,
  "nbformat_minor": 0,
  "metadata": {
    "colab": {
      "provenance": []
    },
    "kernelspec": {
      "name": "python3",
      "display_name": "Python 3"
    },
    "language_info": {
      "name": "python"
    }
  },
  "cells": [
    {
      "cell_type": "code",
      "execution_count": 1,
      "metadata": {
        "colab": {
          "base_uri": "https://localhost:8080/"
        },
        "collapsed": true,
        "id": "wiuiKCLxlHuT",
        "outputId": "81128c1c-f2eb-42d9-a3de-7fc45c93302f"
      },
      "outputs": [
        {
          "output_type": "stream",
          "name": "stdout",
          "text": [
            "Requirement already satisfied: scikit-learn in /usr/local/lib/python3.12/dist-packages (1.6.1)\n",
            "Requirement already satisfied: pandas in /usr/local/lib/python3.12/dist-packages (2.2.2)\n",
            "Requirement already satisfied: numpy in /usr/local/lib/python3.12/dist-packages (2.0.2)\n",
            "Requirement already satisfied: scipy>=1.6.0 in /usr/local/lib/python3.12/dist-packages (from scikit-learn) (1.16.1)\n",
            "Requirement already satisfied: joblib>=1.2.0 in /usr/local/lib/python3.12/dist-packages (from scikit-learn) (1.5.1)\n",
            "Requirement already satisfied: threadpoolctl>=3.1.0 in /usr/local/lib/python3.12/dist-packages (from scikit-learn) (3.6.0)\n",
            "Requirement already satisfied: python-dateutil>=2.8.2 in /usr/local/lib/python3.12/dist-packages (from pandas) (2.9.0.post0)\n",
            "Requirement already satisfied: pytz>=2020.1 in /usr/local/lib/python3.12/dist-packages (from pandas) (2025.2)\n",
            "Requirement already satisfied: tzdata>=2022.7 in /usr/local/lib/python3.12/dist-packages (from pandas) (2025.2)\n",
            "Requirement already satisfied: six>=1.5 in /usr/local/lib/python3.12/dist-packages (from python-dateutil>=2.8.2->pandas) (1.17.0)\n"
          ]
        }
      ],
      "source": [
        "!pip install scikit-learn pandas numpy\n",
        "import pandas as pd\n",
        "import numpy as np\n",
        "from sklearn.metrics.pairwise import cosine_similarity\n",
        "from sklearn.model_selection import train_test_split\n"
      ]
    },
    {
      "cell_type": "code",
      "source": [
        "!wget -nc http://files.grouplens.org/datasets/movielens/ml-100k.zip\n",
        "!unzip -n ml-100k.zip\n",
        "columns = [\"user_id\", \"item_id\", \"rating\", \"timestamp\"]\n",
        "ratings = pd.read_csv(\"ml-100k/u.data\", sep=\"\\t\", names=columns)\n",
        "movie_cols = [\"item_id\", \"title\", \"release_date\", \"video_release_date\", \"IMDb_URL\",\n",
        "              \"unknown\", \"Action\", \"Adventure\", \"Animation\", \"Children's\", \"Comedy\", \"Crime\",\n",
        "              \"Documentary\", \"Drama\", \"Fantasy\", \"Film-Noir\", \"Horror\", \"Musical\",\n",
        "              \"Mystery\", \"Romance\", \"Sci-Fi\", \"Thriller\", \"War\", \"Western\"]\n",
        "movies = pd.read_csv(\"ml-100k/u.item\", sep=\"|\", names=movie_cols, encoding=\"latin-1\")\n",
        "data = ratings.merge(movies[[\"item_id\", \"title\"]], on=\"item_id\")\n",
        "\n",
        "print(\"Ratings Data Sample:\")\n",
        "print(data.head())\n"
      ],
      "metadata": {
        "colab": {
          "base_uri": "https://localhost:8080/"
        },
        "id": "Fv8fHpIMlWRx",
        "outputId": "32988ae1-68dd-4898-efaf-bbab0c76acbf"
      },
      "execution_count": 2,
      "outputs": [
        {
          "output_type": "stream",
          "name": "stdout",
          "text": [
            "--2025-09-04 07:16:36--  http://files.grouplens.org/datasets/movielens/ml-100k.zip\n",
            "Resolving files.grouplens.org (files.grouplens.org)... 128.101.96.204\n",
            "Connecting to files.grouplens.org (files.grouplens.org)|128.101.96.204|:80... connected.\n",
            "HTTP request sent, awaiting response... 301 Moved Permanently\n",
            "Location: https://files.grouplens.org/datasets/movielens/ml-100k.zip [following]\n",
            "--2025-09-04 07:16:36--  https://files.grouplens.org/datasets/movielens/ml-100k.zip\n",
            "Connecting to files.grouplens.org (files.grouplens.org)|128.101.96.204|:443... connected.\n",
            "HTTP request sent, awaiting response... 200 OK\n",
            "Length: 4924029 (4.7M) [application/zip]\n",
            "Saving to: ‘ml-100k.zip’\n",
            "\n",
            "ml-100k.zip         100%[===================>]   4.70M  3.51MB/s    in 1.3s    \n",
            "\n",
            "2025-09-04 07:16:38 (3.51 MB/s) - ‘ml-100k.zip’ saved [4924029/4924029]\n",
            "\n",
            "Archive:  ml-100k.zip\n",
            "   creating: ml-100k/\n",
            "  inflating: ml-100k/allbut.pl       \n",
            "  inflating: ml-100k/mku.sh          \n",
            "  inflating: ml-100k/README          \n",
            "  inflating: ml-100k/u.data          \n",
            "  inflating: ml-100k/u.genre         \n",
            "  inflating: ml-100k/u.info          \n",
            "  inflating: ml-100k/u.item          \n",
            "  inflating: ml-100k/u.occupation    \n",
            "  inflating: ml-100k/u.user          \n",
            "  inflating: ml-100k/u1.base         \n",
            "  inflating: ml-100k/u1.test         \n",
            "  inflating: ml-100k/u2.base         \n",
            "  inflating: ml-100k/u2.test         \n",
            "  inflating: ml-100k/u3.base         \n",
            "  inflating: ml-100k/u3.test         \n",
            "  inflating: ml-100k/u4.base         \n",
            "  inflating: ml-100k/u4.test         \n",
            "  inflating: ml-100k/u5.base         \n",
            "  inflating: ml-100k/u5.test         \n",
            "  inflating: ml-100k/ua.base         \n",
            "  inflating: ml-100k/ua.test         \n",
            "  inflating: ml-100k/ub.base         \n",
            "  inflating: ml-100k/ub.test         \n",
            "Ratings Data Sample:\n",
            "   user_id  item_id  rating  timestamp                       title\n",
            "0      196      242       3  881250949                Kolya (1996)\n",
            "1      186      302       3  891717742    L.A. Confidential (1997)\n",
            "2       22      377       1  878887116         Heavyweights (1994)\n",
            "3      244       51       2  880606923  Legends of the Fall (1994)\n",
            "4      166      346       1  886397596         Jackie Brown (1997)\n"
          ]
        }
      ]
    },
    {
      "cell_type": "code",
      "source": [
        "user_item_matrix = data.pivot_table(index=\"user_id\", columns=\"title\", values=\"rating\")\n",
        "\n",
        "user_item_matrix_filled = user_item_matrix.fillna(0)\n",
        "\n",
        "print(\"User-Item Matrix Shape:\", user_item_matrix_filled.shape)\n"
      ],
      "metadata": {
        "colab": {
          "base_uri": "https://localhost:8080/"
        },
        "id": "mLm9DV9HlWJG",
        "outputId": "08820d24-4f21-4124-8d76-f93e22f0fc44"
      },
      "execution_count": 3,
      "outputs": [
        {
          "output_type": "stream",
          "name": "stdout",
          "text": [
            "User-Item Matrix Shape: (943, 1664)\n"
          ]
        }
      ]
    },
    {
      "cell_type": "code",
      "source": [
        "user_similarity = cosine_similarity(user_item_matrix_filled)\n",
        "user_similarity_df = pd.DataFrame(user_similarity,\n",
        "                                  index=user_item_matrix.index,\n",
        "                                  columns=user_item_matrix.index)\n",
        "\n",
        "print(\"User Similarity Matrix (sample):\")\n",
        "print(user_similarity_df.iloc[:5, :5])\n"
      ],
      "metadata": {
        "colab": {
          "base_uri": "https://localhost:8080/"
        },
        "id": "G14bF49YlWAu",
        "outputId": "44856aa1-dba8-4cd1-ac9d-a2bf7ef38112"
      },
      "execution_count": 4,
      "outputs": [
        {
          "output_type": "stream",
          "name": "stdout",
          "text": [
            "User Similarity Matrix (sample):\n",
            "user_id         1         2         3         4         5\n",
            "user_id                                                  \n",
            "1        1.000000  0.168937  0.048388  0.064561  0.379670\n",
            "2        0.168937  1.000000  0.113393  0.179694  0.073623\n",
            "3        0.048388  0.113393  1.000000  0.349781  0.021592\n",
            "4        0.064561  0.179694  0.349781  1.000000  0.031804\n",
            "5        0.379670  0.073623  0.021592  0.031804  1.000000\n"
          ]
        }
      ]
    },
    {
      "cell_type": "code",
      "source": [
        "def recommend_movies(target_user, top_n=5):\n",
        "    sim_scores = user_similarity_df[target_user].drop(target_user)\n",
        "    similar_users = sim_scores.sort_values(ascending=False).index\n",
        "\n",
        "    seen_movies = user_item_matrix.loc[target_user].dropna().index\n",
        "    weighted_ratings = pd.Series(dtype=float)\n",
        "\n",
        "    for user in similar_users:\n",
        "        user_ratings = user_item_matrix.loc[user]\n",
        "\n",
        "        user_ratings = user_ratings.drop(seen_movies, errors=\"ignore\")\n",
        "        weighted_ratings = weighted_ratings.add(user_ratings * sim_scores[user], fill_value=0)\n",
        "    recommendation_scores = weighted_ratings / sim_scores.sum()\n",
        "    top_recommendations = recommendation_scores.dropna().sort_values(ascending=False).head(top_n)\n",
        "    return top_recommendations\n",
        "\n",
        "print(\"Recommended Movies for User 10:\")\n",
        "print(recommend_movies(target_user=10, top_n=5))\n"
      ],
      "metadata": {
        "colab": {
          "base_uri": "https://localhost:8080/"
        },
        "id": "eSbLri8dlV46",
        "outputId": "df7b9495-eadb-4180-b431-7f63ecd8b9cb"
      },
      "execution_count": 5,
      "outputs": [
        {
          "output_type": "stream",
          "name": "stdout",
          "text": [
            "Recommended Movies for User 10:\n",
            "title\n",
            "Return of the Jedi (1983)          2.625570\n",
            "Empire Strikes Back, The (1980)    2.382551\n",
            "Back to the Future (1985)          2.135831\n",
            "Schindler's List (1993)            2.132099\n",
            "Fugitive, The (1993)               2.104110\n",
            "dtype: float64\n"
          ]
        }
      ]
    },
    {
      "cell_type": "code",
      "source": [
        "def precision_at_k(test_data, k=5):\n",
        "    precisions = []\n",
        "\n",
        "    for user in test_data[\"user_id\"].unique():\n",
        "        user_data = test_data[test_data[\"user_id\"] == user]\n",
        "        relevant_items = set(user_data[user_data[\"rating\"] >= 4][\"item_id\"].values)\n",
        "\n",
        "        if len(relevant_items) == 0:\n",
        "            continue\n",
        "        recs = recommend_movies(user, top_n=k).index\n",
        "        rec_items = data[data[\"title\"].isin(recs)][\"item_id\"].values\n",
        "        hits = len(set(rec_items) & relevant_items)\n",
        "        precisions.append(hits / k)\n",
        "\n",
        "    return np.mean(precisions)\n",
        "\n",
        "train, test = train_test_split(data, test_size=0.2, random_state=42)\n",
        "\n",
        "print(\"Precision@5:\", precision_at_k(test, k=5))\n"
      ],
      "metadata": {
        "colab": {
          "base_uri": "https://localhost:8080/"
        },
        "id": "s9Uyg_GPlVwm",
        "outputId": "13941bb5-d1a5-491b-f749-ad8aeb608cac"
      },
      "execution_count": 6,
      "outputs": [
        {
          "output_type": "stream",
          "name": "stdout",
          "text": [
            "Precision@5: 0.0\n"
          ]
        }
      ]
    },
    {
      "cell_type": "markdown",
      "source": [
        "#Movie Recommendation System\n",
        "\n",
        "This project was about building a system that recommends movies to users based on their preferences and similarity with other users. On the surface, it seems simple — “give me movies I might like” — but it turned out to be more nuanced than that. The main challenge was that not all users rate movies consistently, and most users haven’t seen every movie, so the dataset was very sparse. That means the system has to infer preferences from very limited information.\n",
        "\n",
        "The dataset I used was the MovieLens 100K dataset, which has a mix of numerical and categorical data — ratings, user IDs, movie IDs, and movie titles. The first step was loading and exploring the data to understand its structure. I noticed that some movies were rated very frequently while others had very few ratings, which meant popularity could bias the recommendations if not handled carefully.\n",
        "\n",
        "Creating the user-item matrix was straightforward conceptually, but dealing with the missing ratings required thought. I filled unrated movies with zeros when computing similarity, because ignoring them could make the similarity calculations misleading. Then I computed user similarity using cosine similarity, which measures how similar one user’s ratings are to another’s. I chose cosine similarity because it focuses on the pattern of ratings rather than the absolute rating values, which seemed more appropriate for this scenario.\n",
        "\n",
        "After that, I needed a strategy to recommend movies that a user hadn’t seen yet. The approach I used was simple but effective: look at the users most similar to the target user, consider their ratings for movies the target user hasn’t rated, and then suggest the highest-rated unseen movies. It was interesting to see how users with similar tastes could reveal recommendations that weren’t obvious at first glance.\n",
        "\n",
        "Evaluation was another key aspect of the project. Accuracy alone didn’t make sense here, because the dataset is sparse and most movies are unrated by any given user. Instead, I used Precision@K, which measures how many of the top-K recommended movies are actually relevant. Computing this for every user took some time, but it gave a realistic view of the system’s usefulness.\n",
        "\n",
        "There were a few surprises along the way. Some users’ top recommendations were movies they actually had already rated highly, which made me realize the importance of filtering out already-seen movies. I also noticed that very popular movies tended to appear in many users’ recommendations, which is good in some ways but also risks making the system too “generic.”\n",
        "\n",
        "The main takeaway for me was that recommendation systems are not just about predicting ratings or showing popular items. It’s about personalizing suggestions in a way that truly helps the user discover new content. Handling missing data, choosing similarity metrics, and evaluating recommendations with the right metrics are just as important as the core algorithm. Overall, this project reinforced that thoughtful preprocessing and evaluation are crucial, and even simple user-based collaborative filtering can produce meaningful recommendations if done carefully."
      ],
      "metadata": {
        "id": "QsIZPBPon9vj"
      }
    }
  ]
}